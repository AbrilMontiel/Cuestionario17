{
  "nbformat": 4,
  "nbformat_minor": 0,
  "metadata": {
    "colab": {
      "name": "Arboles1310.ipynb",
      "provenance": [],
      "authorship_tag": "ABX9TyOdEs5EmkYZlRa5ReHyoKpC",
      "include_colab_link": true
    },
    "kernelspec": {
      "name": "python3",
      "display_name": "Python 3"
    },
    "language_info": {
      "name": "python"
    }
  },
  "cells": [
    {
      "cell_type": "markdown",
      "metadata": {
        "id": "view-in-github",
        "colab_type": "text"
      },
      "source": [
        "<a href=\"https://colab.research.google.com/github/AbrilMontiel/Cuestionario17/blob/master/Arboles1310.ipynb\" target=\"_parent\"><img src=\"https://colab.research.google.com/assets/colab-badge.svg\" alt=\"Open In Colab\"/></a>"
      ]
    },
    {
      "cell_type": "code",
      "metadata": {
        "id": "I1LHyXx8BeHV"
      },
      "source": [
        "class NodoBinario:\n",
        "  def __init__( self, value, left = None, rigth = None ):\n",
        "    self.data = value\n",
        "    self.left = left\n",
        "    self.rigth = rigth\n",
        "\n",
        "class NodoTernario:\n",
        "  def __init__( self, value, left = None, center = None, rigth = None ):\n",
        "    self.data = value\n",
        "    self.left = left\n",
        "    self.center = center\n",
        "    self.rigth = rigth\n"
      ],
      "execution_count": 12,
      "outputs": []
    },
    {
      "cell_type": "code",
      "metadata": {
        "colab": {
          "base_uri": "https://localhost:8080/"
        },
        "id": "eIWjbYxUD0Cn",
        "outputId": "42bcdb5d-b488-4a59-caf2-80d818dd5377"
      },
      "source": [
        "arbol1 = NodoBinario( \"R\", NodoBinario( \"C\" ), NodoBinario( \"H\" ) ) \n",
        "print( arbol1.rigth.data )\n",
        "\n",
        "arbol2 = NodoTernario( 4 , NodoTernario( 3, NodoTernario( 5 , left=NodoTernario( 2 ) ), NodoTernario( 5 ), NodoTernario( 2 ) ), None, NodoTernario( 5 ) )\n",
        "\n",
        "print( arbol2.left.rigth.data )\n",
        "print( arbol2.data )\n",
        "print( arbol2.left.center.data )\n",
        "print(arbol2.left.left.left.data)\n",
        "\n",
        "print(\"------ Imprimir el mismo sin left ------\")\n",
        "ejemplo = arbol2.left.left.left.data\n",
        "print(ejemplo)\n",
        "\n",
        "print(\"------ Otra forma ------\")\n",
        "aux = arbol2\n",
        "while ( aux.left != None ):\n",
        "  aux = aux.left\n",
        "print( aux.data )\n",
        "\n",
        "print(\"------ Arbol 3 ------\")\n",
        "root = NodoBinario( \"Santi \", None, NodoBinario( \"Jesús\", NodoBinario( \"Pedro\", None, NodoBinario( \"Pedro Jr.\") ) ) )\n",
        "print(root.rigth.left.rigth.data)"
      ],
      "execution_count": 21,
      "outputs": [
        {
          "output_type": "stream",
          "name": "stdout",
          "text": [
            "H\n",
            "2\n",
            "4\n",
            "5\n",
            "2\n",
            "------ Imprimir el mismo sin left ------\n",
            "2\n",
            "------ Otra forma ------\n",
            "2\n",
            "------ Arbol 3 ------\n",
            "Pedro Jr.\n"
          ]
        }
      ]
    }
  ]
}